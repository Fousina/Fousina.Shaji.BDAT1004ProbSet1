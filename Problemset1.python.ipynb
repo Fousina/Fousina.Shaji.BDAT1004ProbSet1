{
 "cells": [
  {
   "cell_type": "markdown",
   "id": "7d7ba701",
   "metadata": {},
   "source": [
    "Question6-\n",
    "\n",
    " You can turn a word into pig-Latin using the following two rules (simplified):• If the word starts with a consonant, move that letter to the end and append'ay'. For example, 'happy' becomes 'appyhay' and 'pencil' becomes 'encilpay'.• If the word starts with a vowel, simply append 'way' to the end of the word.For example, 'enter' becomes 'enterway' and 'other' becomes 'otherway' . Forour purposes, there are 5 vowels: a, e, i, o, u (so we count y as a consonant).Write a function pig() that takes a word (i.e., a string) as input and returns its pig-Latin form. Your function should still work if the input word contains upper casecharacters. Your output should always be lower case however.>>> pig('happy')'appyhay'>>> pig('Enter')'enterway"
   ]
  },
  {
   "cell_type": "code",
   "execution_count": 1,
   "id": "dc7a348c",
   "metadata": {},
   "outputs": [
    {
     "name": "stdout",
     "output_type": "stream",
     "text": [
      "appyhay\n",
      "enterway\n"
     ]
    }
   ],
   "source": [
    "def pig(word):\n",
    "    # Convert the word to lowercase\n",
    "    word = word.lower()\n",
    "\n",
    "    # Check if the word starts with a vowel\n",
    "    if word[0] in 'aeiou':\n",
    "        return word + 'way'\n",
    "    else:\n",
    "        # Move the first consonant to the end and append 'ay'\n",
    "        return word[1:] + word[0] + 'ay'\n",
    "\n",
    "# Test cases\n",
    "print(pig('happy'))  # 'appyhay'\n",
    "print(pig('Enter'))  # 'enterway'\n"
   ]
  },
  {
   "cell_type": "markdown",
   "id": "cca74bc6",
   "metadata": {},
   "source": [
    "Question7-\n",
    "\n",
    "File bloodtype1.txt records blood-types of patients (A, B, AB, O or OO) at a clinic.Write a function bldcount() that reads the file with name name and reports (i.e.,prints) how many patients there are in each bloodtype.>>> bldcount('bloodtype.txt')There are 10 patients of blood type A.There is one patient of blood type B.There are 10 patients of blood type AB.There are 12 patients of blood type O.There are no patients of blood type OO."
   ]
  },
  {
   "cell_type": "code",
   "execution_count": 2,
   "id": "6b90c5b2",
   "metadata": {},
   "outputs": [
    {
     "name": "stdout",
     "output_type": "stream",
     "text": [
      "File 'bloodtype.txt' not found.\n"
     ]
    }
   ],
   "source": [
    "def bldcount(filename):\n",
    "    # Initialize a dictionary to store the count of each blood type\n",
    "    blood_type_count = {'A': 0, 'B': 0, 'AB': 0, 'O': 0, 'OO': 0}\n",
    "\n",
    "    try:\n",
    "        # Open the file for reading\n",
    "        with open(filename, 'r') as file:\n",
    "            # Read each line in the file\n",
    "            for line in file:\n",
    "                # Remove leading and trailing whitespaces\n",
    "                blood_type = line.strip()\n",
    "\n",
    "                # Increment the count for the corresponding blood type\n",
    "                blood_type_count[blood_type] += 1\n",
    "\n",
    "        # Print the results\n",
    "        for blood_type, count in blood_type_count.items():\n",
    "            if count == 1:\n",
    "                print(f\"There is one patient of blood type {blood_type}.\")\n",
    "            else:\n",
    "                print(f\"There are {count} patients of blood type {blood_type}.\")\n",
    "\n",
    "    except FileNotFoundError:\n",
    "        print(f\"File '{filename}' not found.\")\n",
    "    except Exception as e:\n",
    "        print(f\"An error occurred: {e}\")\n",
    "\n",
    "# Test the function with the provided example\n",
    "bldcount('bloodtype.txt')\n"
   ]
  },
  {
   "cell_type": "markdown",
   "id": "3a766187",
   "metadata": {},
   "source": [
    "question8-\n",
    "\n",
    "Write a function curconv() that takes as input:\n",
    "    1.a currency represented using a string (e.g., 'JPY' for the Japanese Yen or'EUR' for the Euro)\n",
    "    2. an amountand then converts and returns the amount in US dollars.>>> curconv('EUR', 100)\n",
    "    122.96544>>> curconv('JPY', 100)1.241401The currency rates you will need are \n",
    "    stored in file currencies.txt:AUD 1.0345157 Australian DollarCHF 1.0237414 Swiss FrancCNY 0.1550176 Chinese YuanDKK 0.1651442 Danish KroneEUR 1.2296544 EuroGBP 1.5550989 British PoundHKD 0.1270207 Hong Kong DollarINR 0.0177643 Indian RupeeJPY 0.01241401 Japanese YenMXN 0.0751848 Mexican PesoMYR 0.3145411 Malaysian RinggitNOK 0.1677063 Norwegian KroneNZD 0.8003591 New Zealand DollarPHP 0.0233234 Philippine PesoSEK 0.148269 Swedish KronaSGD 0.788871 Singapore DollarTHB 0.0313789 Thai Baht"
   ]
  },
  {
   "cell_type": "code",
   "execution_count": 6,
   "id": "61c649e4",
   "metadata": {},
   "outputs": [
    {
     "name": "stdout",
     "output_type": "stream",
     "text": [
      "500 AUD is equivalent to 517.26 USD\n"
     ]
    }
   ],
   "source": [
    "def curconv(currency, amount):\n",
    "    exchange_rates = {'AUD': 1.0345157, 'CHF': 1.0237414, 'CNY': 0.1550176, 'DKK': 0.1651442,'EUR': 1.2296544, 'GBP': 1.5550989, 'HKD': 0.1270207, 'INR': 0.0177643,'JPY': 0.01241401, 'MXN': 0.0751848, 'MYR': 0.3145411, 'NOK': 0.1677063,'NZD': 0.8003591, 'PHP': 0.0233234, 'SEK': 0.148269, 'SGD': 0.788871,'THB': 0.0313789}\n",
    "\n",
    "    if currency in exchange_rates:\n",
    "        usd_amount = amount * exchange_rates[currency]\n",
    "        return usd_amount\n",
    "    else:\n",
    "        return \"Currency code not found in the exchange rates dictionary.\"\n",
    "    \n",
    "amount_in_AUD = 500  \n",
    "usd_equivalent = curconv('AUD', amount_in_AUD)\n",
    "if isinstance(usd_equivalent, float):\n",
    "    print(f\"{amount_in_AUD} AUD is equivalent to {usd_equivalent:.2f} USD\")\n",
    "else:\n",
    "    print(usd_equivalent)"
   ]
  },
  {
   "cell_type": "markdown",
   "id": "8a65f43c",
   "metadata": {},
   "source": [
    "Question9-\n",
    "\n",
    "Each of the following will cause an exception (an error).\n",
    "Identify what type ofexception each will cause.\n",
    "To add incompatible variables, as inadding 6 + ‘a’Referring to the 12th item of a list that has only 10items\n",
    "Using a value that is out of range for a function’sinput, such as calling math.sqrt(-1.0)\n",
    "Using an undeclared variable, such as print(x)when x has not been defined\n",
    "Trying to open a file that does not exist, such asmistyping the file name or looking in the wrongdirectory.\n"
   ]
  },
  {
   "cell_type": "code",
   "execution_count": 9,
   "id": "b744aa66",
   "metadata": {},
   "outputs": [
    {
     "name": "stdout",
     "output_type": "stream",
     "text": [
      "Scenario 1: unsupported operand type(s) for +: 'int' and 'str'\n",
      "Scenario 2: list index out of range\n",
      "Scenario 3: math domain error\n",
      "Scenario 4: name 'x' is not defined\n",
      "Scenario 5: [Errno 2] No such file or directory: 'non_existent_file.txt'\n"
     ]
    }
   ],
   "source": [
    "import math  # Import math module for the last scenario\n",
    "\n",
    "# Scenario 1: Trying to add incompatible variables\n",
    "try:\n",
    "    result = 6 + 'a'\n",
    "except TypeError as e:\n",
    "    print(f\"Scenario 1: {e}\")\n",
    "\n",
    "# Scenario 2: Referring to an out-of-range item in a list\n",
    "try:\n",
    "    my_list = [1, 2, 3, 4, 5, 6, 7, 8, 9, 10]\n",
    "    item = my_list[12]\n",
    "except IndexError as e:\n",
    "    print(f\"Scenario 2: {e}\")\n",
    "\n",
    "# Scenario 3: Using a value that is out of range for a function's input\n",
    "try:\n",
    "    result = math.sqrt(-1.0)\n",
    "except ValueError as e:\n",
    "    print(f\"Scenario 3: {e}\")\n",
    "\n",
    "# Scenario 4: Using an undeclared variable\n",
    "try:\n",
    "    print(x)\n",
    "except NameError as e:\n",
    "    print(f\"Scenario 4: {e}\")\n",
    "\n",
    "# Scenario 5: Trying to open a file that does not exist\n",
    "try:\n",
    "    with open('non_existent_file.txt', 'r') as file:\n",
    "        content = file.read()\n",
    "except FileNotFoundError as e:\n",
    "    print(f\"Scenario 5: {e}\")"
   ]
  },
  {
   "cell_type": "markdown",
   "id": "4678b7e7",
   "metadata": {},
   "source": [
    "Question10-\n",
    "\n",
    "Encryption is the process of hiding the meaning of a text by substituting letters in themessage with other letters, according to some system. If the process is successful, noone but the intended recipient can understand the encrypted message. Cryptanalysisrefers to attempts to undo the encryption, even if some details of the encryption areunknown (for example, if an encrypted message has been intercepted). The first stepof cryptanalysis is often to build up a table of letter frequencies in the encrypted text.Assume that the string letters is already defined as'abcdefghijklmnopqrstuvwxyz'. Write a function called frequencies()that takes a string as its only parameter, and returns a list of integers, showing thenumber of times each character appears in the text. Your function may ignore anycharacters that are not in letters.>>> frequencies('The quick red fox got bored and went home.')[1, 1, 1, 3, 5, 1, 1, 2, 1, 0, 1, 0, 1, 2, 4, 0, 1, 2, 0, 2,1, 0, 1, 1, 0, 0]>>> frequencies('apple')"
   ]
  },
  {
   "cell_type": "code",
   "execution_count": 8,
   "id": "eae9f8f6",
   "metadata": {},
   "outputs": [
    {
     "name": "stdout",
     "output_type": "stream",
     "text": [
      "[1, 1, 1, 3, 5, 1, 1, 2, 1, 0, 1, 0, 1, 2, 4, 0, 1, 2, 0, 2, 1, 0, 1, 1, 0, 0]\n",
      "[1, 0, 0, 0, 1, 0, 0, 0, 0, 0, 0, 1, 0, 0, 0, 2, 0, 0, 0, 0, 0, 0, 0, 0, 0, 0]\n"
     ]
    }
   ],
   "source": [
    "def frequencies(text):\n",
    "    letters = 'abcdefghijklmnopqrstuvwxyz'\n",
    "    counts = [0] * len(letters)\n",
    "    for char in text:\n",
    "        if char in letters:\n",
    "            counts[letters.index(char)] += 1\n",
    "    return counts\n",
    "print(frequencies('The quick red fox got bored and went home.\\n'))\n",
    "print(frequencies('apple'))"
   ]
  }
 ],
 "metadata": {
  "kernelspec": {
   "display_name": "Python 3 (ipykernel)",
   "language": "python",
   "name": "python3"
  },
  "language_info": {
   "codemirror_mode": {
    "name": "ipython",
    "version": 3
   },
   "file_extension": ".py",
   "mimetype": "text/x-python",
   "name": "python",
   "nbconvert_exporter": "python",
   "pygments_lexer": "ipython3",
   "version": "3.11.5"
  }
 },
 "nbformat": 4,
 "nbformat_minor": 5
}
