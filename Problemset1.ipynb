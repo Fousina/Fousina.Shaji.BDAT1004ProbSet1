{
 "cells": [
  {
   "cell_type": "markdown",
   "id": "0fa49f41",
   "metadata": {},
   "source": [
    "Question1-\n",
    "\n",
    "1.What data type is each of the following?"
   ]
  },
  {
   "cell_type": "markdown",
   "id": "4799deee",
   "metadata": {},
   "source": [
    "    a)  5 - int\n",
    "    b) 5.0 -double\n",
    "    c) 5 > 1 - bool\n",
    "    d) '5' - char\n",
    "    e) 5 * 2 - int\n",
    "    f) '5' * 2 -string\n",
    "    g) '5' + '2' - string\n",
    "    h) 5 / 2 - double\n",
    "    i) 5 % 2 - int\n",
    "    j) {5, 2, 1} - List\n",
    "    k) 5 == 3 - bool\n",
    "    l) Pi (the number) - double"
   ]
  },
  {
   "cell_type": "markdown",
   "id": "98800f2d",
   "metadata": {},
   "source": [
    "Question2-\n",
    "\n",
    "Write (and evaluate) C# expressions that answer these questions:\n",
    "\n",
    "a. How many letters are there in 'Supercalifragilisticexpialidocious'?"
   ]
  },
  {
   "cell_type": "code",
   "execution_count": 8,
   "id": "d9fa578a",
   "metadata": {},
   "outputs": [
    {
     "name": "stdout",
     "output_type": "stream",
     "text": [
      "Number of letters: 34\r\n"
     ]
    }
   ],
   "source": [
    "string s = \"Supercalifragilisticexpialidocious\";\n",
    "Console.WriteLine(\"Number of letters: \" + s.Length);\n"
   ]
  },
  {
   "cell_type": "markdown",
   "id": "4fb2d25f",
   "metadata": {},
   "source": [
    "b. Does 'Supercalifragilisticexpialidocious' contain 'ice' as a substring?\n"
   ]
  },
  {
   "cell_type": "code",
   "execution_count": 37,
   "id": "8508ab38",
   "metadata": {},
   "outputs": [
    {
     "name": "stdout",
     "output_type": "stream",
     "text": [
      "'Supercalifragilisticexpialidocious' consist  'ice'.\r\n"
     ]
    }
   ],
   "source": [
    "string word = \"Supercalifragilisticexpialidocious\";\n",
    "        string substringToSearch = \"ice\";\n",
    "        \n",
    "        bool containsSubstring = word.Contains(substringToSearch);\n",
    "\n",
    "        if (containsSubstring)\n",
    "        {\n",
    "            Console.WriteLine($\"'{word}' consist  '{substringToSearch}'.\");\n",
    "        }\n",
    "        else\n",
    "        {\n",
    "            Console.WriteLine($\"'{word}' did not consist '{substringToSearch}'.\");\n",
    "        }"
   ]
  },
  {
   "cell_type": "markdown",
   "id": "5ee25b03",
   "metadata": {},
   "source": [
    "c. Which of the following words is the longest:Supercalifragilisticexpialidocious, Honorificabilitudinitatibus, \n",
    "orBababadalgharaghtakamminarronnkonn"
   ]
  },
  {
   "cell_type": "code",
   "execution_count": 16,
   "id": "62129b09",
   "metadata": {},
   "outputs": [
    {
     "name": "stdout",
     "output_type": "stream",
     "text": [
      "Largest word is: Bababadalgharaghtakamminarronnkonn\r\n"
     ]
    }
   ],
   "source": [
    "string word1 = \"Supercalifragilisticexpialidocious\";\n",
    "        string word2 = \"Honorificabilitudinitatibus\";\n",
    "        string word3 = \"Bababadalgharaghtakamminarronnkonn\";\n",
    "\n",
    "        string largestWord = FindLargestWord(word1, word2, word3);\n",
    "\n",
    "        Console.WriteLine($\"Largest word is: {largestWord}\");\n",
    "\n",
    "    static string FindLargestWord(params string[] words)\n",
    "    {\n",
    "        string largestWord = \"\";\n",
    "\n",
    "        foreach (string word in words)\n",
    "        {\n",
    "            if (word.Length >= largestWord.Length)\n",
    "            {\n",
    "                largestWord = word;\n",
    "            }\n",
    "        }\n",
    "\n",
    "        return largestWord;\n",
    "    }"
   ]
  },
  {
   "cell_type": "markdown",
   "id": "00de247b",
   "metadata": {},
   "source": [
    "d. Which composer comes first in the dictionary: 'Berlioz', 'Borodin', 'Brian', 'Bartok', 'Bellini', 'Buxtehude', 'Bernstein'. Which one comes last?"
   ]
  },
  {
   "cell_type": "code",
   "execution_count": 20,
   "id": "d1893ee6",
   "metadata": {},
   "outputs": [
    {
     "name": "stdout",
     "output_type": "stream",
     "text": [
      "Composer that comes first is : Bartok\n",
      "Composer that comes last is : Buxtehude\n"
     ]
    }
   ],
   "source": [
    "List<string> composers = new List<string>\n",
    "        {\n",
    "            \"Berlioz\", \"Borodin\", \"Brian\", \"Bartok\", \"Bellini\", \"Buxtehude\", \"Bernstein\"\n",
    "        };\n",
    "        \n",
    "        composers.Sort();\n",
    "        string firstComposer = composers[0];\n",
    "        string lastComposer = composers[composers.Count - 1];\n",
    "        \n",
    "        Console.WriteLine(\"Composer that comes first is : \" + firstComposer);\n",
    "        Console.WriteLine(\"Composer that comes last is : \" + lastComposer);"
   ]
  },
  {
   "cell_type": "markdown",
   "id": "2ae571b5",
   "metadata": {},
   "source": [
    "Question3-\n",
    "\n",
    "Implement function triangleArea(a,b,c) that takes as input the lengths of the 3sides of a triangle and returns the area of the triangle. By Heron's formula, the areaof a triangle with side lengths a, b, and c iss(s - a)(s - b)(s - c) , wheres = (a + b + c) /2.>>> triangleArea(2,2,2)1.7320508075688772"
   ]
  },
  {
   "cell_type": "code",
   "execution_count": 23,
   "id": "215c90e3",
   "metadata": {},
   "outputs": [
    {
     "name": "stdout",
     "output_type": "stream",
     "text": [
      "1.7320508075688772\r\n"
     ]
    }
   ],
   "source": [
    "double area = triangleArea(2, 2, 2);\n",
    "        Console.WriteLine(area);\n",
    "    \n",
    "\n",
    "    static double triangleArea(double a, double b, double c)\n",
    "    {\n",
    "       \n",
    "        double s = (a + b + c) / 2;\n",
    "\n",
    "        \n",
    "        double area = Math.Sqrt(s * (s - a) * (s - b) * (s - c));\n",
    "\n",
    "        return area;\n",
    "    }"
   ]
  },
  {
   "cell_type": "markdown",
   "id": "0b76503d",
   "metadata": {},
   "source": [
    "Question4-\n",
    "\n",
    "Write a program in C# Sharp to separate odd and even integers in separate arrays.Go to the editorTest Data :Input the number of elements to be stored in the array :5Input 5 elements in the array :element - 0 : 25element - 1 : 47element - 2 : 42element - 3 : 56element - 4 : 32\n",
    "\n",
    "Expected Output:The Even elements are:42 56 32The Odd elements are :25 47"
   ]
  },
  {
   "cell_type": "code",
   "execution_count": 24,
   "id": "3b59d8da",
   "metadata": {},
   "outputs": [
    {
     "name": "stdout",
     "output_type": "stream",
     "text": [
      "The Even elements are:\n",
      "42 56 32 \n",
      "The Odd elements are:\n",
      "25 47 "
     ]
    }
   ],
   "source": [
    "int n = 5;\n",
    " \n",
    "        int[] inputArray= {25,47,42,56,32};\n",
    "\n",
    "        int[] evenArray = new int[n];\n",
    "        int[] oddArray = new int[n];\n",
    "\n",
    "        int evenCount = 0;\n",
    "        int oddCount = 0;\n",
    "\n",
    "        for (int i = 0; i < n; i++)\n",
    "        {\n",
    "            if (inputArray[i] % 2 == 0)\n",
    "            {\n",
    "                evenArray[evenCount] = inputArray[i];\n",
    "                evenCount++;\n",
    "            }\n",
    "            else\n",
    "            {\n",
    "                oddArray[oddCount] = inputArray[i];\n",
    "                oddCount++;\n",
    "            }\n",
    "        }\n",
    "\n",
    "        Console.WriteLine(\"The Even elements are:\");\n",
    "        for (int i = 0; i < evenCount; i++)\n",
    "        {\n",
    "            Console.Write(evenArray[i] + \" \");\n",
    "        }\n",
    "\n",
    "        Console.WriteLine(\"\\nThe Odd elements are:\");\n",
    "        for (int i = 0; i < oddCount; i++)\n",
    "        {\n",
    "            Console.Write(oddArray[i] + \" \");\n",
    "        }"
   ]
  },
  {
   "cell_type": "markdown",
   "id": "fc796469",
   "metadata": {},
   "source": [
    "question5-\n",
    "\n",
    "a.Write a function inside(x,y,x1,y1,x2,y2) that returns True or Falsedepending on whether the point (x,y) lies in the rectangle with lower leftcorner (x1,y1) and upper right corner (x2,y2).>>> inside(1,1,0,0,2,3)True>>> inside(-1,-1,0,0,2,3)False\n",
    "\n",
    "        "
   ]
  },
  {
   "cell_type": "code",
   "execution_count": 27,
   "id": "43d03732",
   "metadata": {},
   "outputs": [
    {
     "name": "stdout",
     "output_type": "stream",
     "text": [
      "True\n",
      "False\n"
     ]
    }
   ],
   "source": [
    "bool result1 = inside(1, 1, 0, 0, 2, 3);\n",
    "        bool result2 = inside(-1, -1, 0, 0, 2, 3);\n",
    "\n",
    "        Console.WriteLine(result1); \n",
    "        Console.WriteLine(result2); \n",
    "    \n",
    "\n",
    "    static bool inside(int x, int y, int x1, int y1, int x2, int y2)\n",
    "    {\n",
    "        return (x >= x1 && x <= x2 && y >= y1 && y <= y2);\n",
    "    }"
   ]
  },
  {
   "cell_type": "markdown",
   "id": "15d55dfb",
   "metadata": {},
   "source": [
    "b.Use function inside() from part a. to write an expression that tests whetherthe point (1,1) lies in both of the following rectangles: one with lower leftcorner (0.3, 0.5) and upper right corner (1.1, 0.7) and the other with lowerleft corner (0.5, 0.2) and upper right corner (1.1, 2)"
   ]
  },
  {
   "cell_type": "code",
   "execution_count": 38,
   "id": "292969ec",
   "metadata": {},
   "outputs": [
    {
     "name": "stdout",
     "output_type": "stream",
     "text": [
      "Point (1, 1) is in Rectangle 1: False\n",
      "Point (1, 1) is in Rectangle 2: True\n",
      "Point (1, 1) is in both rectangles: False\n"
     ]
    }
   ],
   "source": [
    "using System;\n",
    "\n",
    "bool Inside(double x, double y, double x1, double y1, double x2, double y2)\n",
    "{\n",
    "    return x >= x1 && x <= x2 && y >= y1 && y <= y2;\n",
    "}\n",
    "\n",
    "double x = 1;\n",
    "double y = 1;\n",
    "\n",
    "bool isInRectangle1 = Inside(x, y, 0.3, 0.5, 1.1, 0.7);\n",
    "bool isInRectangle2 = Inside(x, y, 0.5, 0.2, 1.1, 2);\n",
    "\n",
    "bool isInBothRectangles = isInRectangle1 && isInRectangle2;\n",
    "\n",
    "Console.WriteLine($\"Point ({x}, {y}) is in Rectangle 1: {isInRectangle1}\");\n",
    "Console.WriteLine($\"Point ({x}, {y}) is in Rectangle 2: {isInRectangle2}\");\n",
    "Console.WriteLine($\"Point ({x}, {y}) is in both rectangles: {isInBothRectangles}\");\n"
   ]
  }
 ],
 "metadata": {
  "kernelspec": {
   "display_name": ".NET (C#)",
   "language": "C#",
   "name": ".net-csharp"
  },
  "language_info": {
   "file_extension": ".cs",
   "mimetype": "text/x-csharp",
   "name": "C#",
   "pygments_lexer": "csharp",
   "version": "11.0"
  }
 },
 "nbformat": 4,
 "nbformat_minor": 5
}
